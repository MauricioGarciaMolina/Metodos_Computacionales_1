{
 "cells": [
  {
   "cell_type": "markdown",
   "id": "27310185",
   "metadata": {},
   "source": [
    "\n",
    "# Estadistica\n",
    "## Distribuciones discretas de Probabiliadad\n",
    "\n",
    "Recuerde que $${P}(A_i/B) = \\dfrac{{P}(B/A){P}(A)}{\\sum ?}$$\n",
    "\n",
    "Caso discreto, $f(x)$ es la función de densidad de probabilidad:\n",
    "$$\\cap_{f(x)}={\\emptyset}$$\n",
    "$$f(x)=P(X=x)$$"
   ]
  },
  {
   "cell_type": "markdown",
   "id": "934b8a73",
   "metadata": {},
   "source": [
    "## Distribución de Bernoulli\n",
    "\n",
    "Unico experimento con dos resultados denominados exito o fracaso, con parámetro $0<p<1$.\n",
    "\n",
    "La distribución es uniforme.\n"
   ]
  },
  {
   "cell_type": "code",
   "execution_count": 5,
   "id": "45de2303",
   "metadata": {},
   "outputs": [],
   "source": [
    "import numpy as np\n",
    "import matplotlib.pyplot as plt\n",
    "from scipy.stats import bernoulli\n",
    "from scipy.stats import binom\n",
    "from scipy.stats import poisson"
   ]
  },
  {
   "cell_type": "code",
   "execution_count": 6,
   "id": "7ead0fe9",
   "metadata": {},
   "outputs": [],
   "source": [
    "def GetHisto(Data,bines):\n",
    "    h,bins=np.histogram(Data,bins=bines)\n",
    "    w=np.diff(bins)\n",
    "    m=bins[:-1]+0.5*w[0]\n",
    "    \n",
    "    hnorm=h/(np.sum(h)*w)\n",
    "    \n",
    "    return h,hnorm,m,w"
   ]
  },
  {
   "cell_type": "code",
   "execution_count": 140,
   "id": "5305e65b",
   "metadata": {},
   "outputs": [],
   "source": [
    "p=1/6\n",
    "\n",
    "N=int(1e3)"
   ]
  },
  {
   "cell_type": "code",
   "execution_count": 141,
   "id": "360f44c3",
   "metadata": {},
   "outputs": [],
   "source": [
    "b=bernoulli.rvs(p,size=N)\n",
    "xbins= np.linspace(0,2,3)"
   ]
  },
  {
   "cell_type": "code",
   "execution_count": 142,
   "id": "65a25603",
   "metadata": {},
   "outputs": [],
   "source": [
    "Hb, HNb, mb, wb=GetHisto(b,xbins)"
   ]
  },
  {
   "cell_type": "code",
   "execution_count": 143,
   "id": "0fb6a453",
   "metadata": {},
   "outputs": [
    {
     "data": {
      "text/plain": [
       "0.86"
      ]
     },
     "execution_count": 143,
     "metadata": {},
     "output_type": "execute_result"
    }
   ],
   "source": [
    "np.round(HNb[0],2)"
   ]
  },
  {
   "cell_type": "code",
   "execution_count": 144,
   "id": "e9dd498c",
   "metadata": {},
   "outputs": [
    {
     "data": {
      "image/png": "[encoded data removed]",
      "text/plain": [
       "<Figure size 432x288 with 1 Axes>"
      ]
     },
     "metadata": {
      "needs_background": "light"
     },
     "output_type": "display_data"
    }
   ],
   "source": [
    "plt.bar(mb,HNb,width=wb,ec=\"k\")\n",
    "plt.ylim(0,1)\n",
    "for i in range(len(mb)):\n",
    "    plt.text(mb[i],0.02+np.round(HNb[i],2), \\\n",
    "             str(np.round(HNb[i]*100.2))+\"%\",ha=\"center\",fontsize=15 )"
   ]
  },
  {
   "cell_type": "markdown",
   "id": "c74b4a84",
   "metadata": {},
   "source": [
    "## Distribución Binomial\n",
    "\n",
    "El factor de combinatoria se da dada la posibilidad de obtener mismos resultados en ordenes diferentes."
   ]
  },
  {
   "cell_type": "code",
   "execution_count": 145,
   "id": "5e1f36d4",
   "metadata": {},
   "outputs": [],
   "source": [
    "n,p=4,1/6\n",
    "binomial=binom.rvs(n,p,size=N)\n",
    "xbins= np.linspace(0,3,4)\n",
    "Hb, HNb, mb, wb=GetHisto(binomial,xbins)"
   ]
  },
  {
   "cell_type": "code",
   "execution_count": 146,
   "id": "d9cf4e37",
   "metadata": {},
   "outputs": [
    {
     "data": {
      "image/png": "[encoded data removed]",
      "text/plain": [
       "<Figure size 432x288 with 1 Axes>"
      ]
     },
     "metadata": {
      "needs_background": "light"
     },
     "output_type": "display_data"
    }
   ],
   "source": [
    "plt.bar(mb,HNb,width=wb,ec=\"k\")\n",
    "plt.ylim(0,1)\n",
    "for i in range(len(mb)):\n",
    "    plt.text(mb[i],0.02+np.round(HNb[i],2), \\\n",
    "             str(np.round(HNb[i]*100.2))+\"%\",ha=\"center\",fontsize=15 )"
   ]
  },
  {
   "cell_type": "markdown",
   "id": "e3641239",
   "metadata": {},
   "source": [
    "## Distribución de Poisson\n",
    "Conteo de ocurrencias en el tiempo\n",
    "\n",
    "$$P=(X=k)=\\dfrac{e^{\\lambda}\\lambda^k}{k!}$$"
   ]
  },
  {
   "cell_type": "code",
   "execution_count": 147,
   "id": "e0473dcd",
   "metadata": {},
   "outputs": [],
   "source": [
    "mu=2\n",
    "Pois=poisson.rvs(mu,size=N)\n",
    "xbins=np.linspace(0,7,8)\n",
    "Hb, HNb, mb, wb=GetHisto(Pois,xbins)"
   ]
  },
  {
   "cell_type": "code",
   "execution_count": 148,
   "id": "319b7755",
   "metadata": {},
   "outputs": [
    {
     "data": {
      "image/png": "[encoded data removed]",
      "text/plain": [
       "<Figure size 432x288 with 1 Axes>"
      ]
     },
     "metadata": {
      "needs_background": "light"
     },
     "output_type": "display_data"
    }
   ],
   "source": [
    "plt.bar(mb,HNb,width=wb,ec=\"k\")\n",
    "plt.ylim(0,1)\n",
    "for i in range(len(mb)):\n",
    "    plt.text(mb[i],0.02+np.round(HNb[i],2), \\\n",
    "             str(np.round(HNb[i]*100.2))+\"%\",ha=\"center\",fontsize=15 )"
   ]
  },
  {
   "cell_type": "code",
   "execution_count": 149,
   "id": "5610f46d",
   "metadata": {},
   "outputs": [],
   "source": [
    "def GetMu(x,f):\n",
    "    rta=0\n",
    "    for i in range(len(x)):\n",
    "        rta+=x[i]*f[i]\n",
    "    return rta"
   ]
  },
  {
   "cell_type": "code",
   "execution_count": 150,
   "id": "3308ab48",
   "metadata": {},
   "outputs": [
    {
     "data": {
      "text/plain": [
       "2.006012024048096"
      ]
     },
     "execution_count": 150,
     "metadata": {},
     "output_type": "execute_result"
    }
   ],
   "source": [
    "GetMu(HNb,xbins[:-1])"
   ]
  },
  {
   "cell_type": "code",
   "execution_count": 151,
   "id": "68eaa5cb",
   "metadata": {},
   "outputs": [
    {
     "data": {
      "text/plain": [
       "2.006012024048096"
      ]
     },
     "execution_count": 151,
     "metadata": {},
     "output_type": "execute_result"
    }
   ],
   "source": [
    "np.sum( HNb*xbins[:-1])"
   ]
  },
  {
   "cell_type": "code",
   "execution_count": null,
   "id": "77d929c2",
   "metadata": {},
   "outputs": [],
   "source": []
  }
 ],
 "metadata": {
  "kernelspec": {
   "display_name": "Python 3 (ipykernel)",
   "language": "python",
   "name": "python3"
  },
  "language_info": {
   "codemirror_mode": {
    "name": "ipython",
    "version": 3
   },
   "file_extension": ".py",
   "mimetype": "text/x-python",
   "name": "python",
   "nbconvert_exporter": "python",
   "pygments_lexer": "ipython3",
   "version": "3.9.7"
  }
 },
 "nbformat": 4,
 "nbformat_minor": 5
}
