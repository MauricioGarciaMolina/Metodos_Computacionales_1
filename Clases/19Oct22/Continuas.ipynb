{
 "cells": [
  {
   "cell_type": "markdown",
   "id": "a09a5c6f",
   "metadata": {},
   "source": [
    "## Distribución Normal"
   ]
  },
  {
   "cell_type": "code",
   "execution_count": 1,
   "id": "1a07ccdf",
   "metadata": {},
   "outputs": [],
   "source": [
    "import numpy as np\n",
    "import matplotlib.pyplot as plt\n",
    "from scipy.stats import norm\n",
    "from scipy.stats import t\n",
    "from scipy.stats import chi2\n",
    "from scipy import integrate"
   ]
  },
  {
   "cell_type": "code",
   "execution_count": 2,
   "id": "a3285107",
   "metadata": {},
   "outputs": [],
   "source": [
    "def GetHisto(Data,bines):\n",
    "    h,bins=np.histogram(Data,bins=bines)\n",
    "    w=np.diff(bins)\n",
    "    m=bins[:-1]+0.5*w[0]\n",
    "    \n",
    "    hnorm=h/(np.sum(h)*w)\n",
    "    \n",
    "    return h,hnorm,m,w"
   ]
  },
  {
   "cell_type": "code",
   "execution_count": 95,
   "id": "0bef92d4",
   "metadata": {},
   "outputs": [],
   "source": [
    "mu, sigma=1,2\n",
    "N=1000\n",
    "normal=norm.rvs(loc=mu,scale=sigma,size=N)"
   ]
  },
  {
   "cell_type": "code",
   "execution_count": 96,
   "id": "c0fb52e0",
   "metadata": {},
   "outputs": [],
   "source": [
    "xbins=np.linspace(np.min(normal),np.max(normal),100)\n",
    "Hb, HNb, mb, wb=GetHisto(normal,xbins)"
   ]
  },
  {
   "cell_type": "code",
   "execution_count": 97,
   "id": "acb9b267",
   "metadata": {},
   "outputs": [
    {
     "data": {
      "text/plain": [
       "(0.0, 1.0)"
      ]
     },
     "execution_count": 97,
     "metadata": {},
     "output_type": "execute_result"
    },
    {
     "data": {
      "image/png": "[encoded data removed]",
      "text/plain": [
       "<Figure size 432x288 with 1 Axes>"
      ]
     },
     "metadata": {
      "needs_background": "light"
     },
     "output_type": "display_data"
    }
   ],
   "source": [
    "plt.bar(mb,HNb,width=wb,ec=\"k\")\n",
    "plt.plot(xbins,norm.pdf(xbins,scale=sigma,loc=mu),color=\"red\")\n",
    "plt.ylim(0,1)\n",
    "#for i in range(len(mb)):\n",
    "#    plt.text(mb[i],0.02+np.round(HNb[i],2), \\\n",
    "#             str(np.round(HNb[i]*100.2))+\"%\",ha=\"center\",fontsize=15 )"
   ]
  },
  {
   "cell_type": "code",
   "execution_count": 98,
   "id": "3a99b683",
   "metadata": {},
   "outputs": [
    {
     "data": {
      "text/plain": [
       "6.38193379859455"
      ]
     },
     "execution_count": 98,
     "metadata": {},
     "output_type": "execute_result"
    }
   ],
   "source": [
    "np.sum(HNb*xbins[:-1])"
   ]
  },
  {
   "cell_type": "code",
   "execution_count": 100,
   "id": "a5e1c887",
   "metadata": {},
   "outputs": [
    {
     "data": {
      "text/plain": [
       "2.500000000000001"
      ]
     },
     "execution_count": 100,
     "metadata": {},
     "output_type": "execute_result"
    }
   ],
   "source": [
    "def normalpdf(x):\n",
    "    n=2\n",
    "    return (x**n)*norm.pdf(x,loc=mu,scale=sigma)/n\n",
    "f=normalpdf\n",
    "I,e=integrate.quad(f,-np.inf,np.inf)\n",
    "I"
   ]
  },
  {
   "cell_type": "code",
   "execution_count": null,
   "id": "f8516e60",
   "metadata": {},
   "outputs": [],
   "source": []
  },
  {
   "cell_type": "code",
   "execution_count": null,
   "id": "0456d62a",
   "metadata": {},
   "outputs": [],
   "source": []
  }
 ],
 "metadata": {
  "kernelspec": {
   "display_name": "Python 3 (ipykernel)",
   "language": "python",
   "name": "python3"
  },
  "language_info": {
   "codemirror_mode": {
    "name": "ipython",
    "version": 3
   },
   "file_extension": ".py",
   "mimetype": "text/x-python",
   "name": "python",
   "nbconvert_exporter": "python",
   "pygments_lexer": "ipython3",
   "version": "3.9.7"
  }
 },
 "nbformat": 4,
 "nbformat_minor": 5
}
